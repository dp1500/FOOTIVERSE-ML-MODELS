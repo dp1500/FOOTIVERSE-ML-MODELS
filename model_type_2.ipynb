{
  "nbformat": 4,
  "nbformat_minor": 0,
  "metadata": {
    "colab": {
      "provenance": [],
      "toc_visible": true,
      "authorship_tag": "ABX9TyMBbyjOMe6tF4/sA+0aYWzG",
      "include_colab_link": true
    },
    "kernelspec": {
      "name": "python3",
      "display_name": "Python 3"
    },
    "language_info": {
      "name": "python"
    }
  },
  "cells": [
    {
      "cell_type": "markdown",
      "metadata": {
        "id": "view-in-github",
        "colab_type": "text"
      },
      "source": [
        "<a href=\"https://colab.research.google.com/github/dp1500/FOOTIVERSE-ML-MODELS/blob/main/model_type_2.ipynb\" target=\"_parent\"><img src=\"https://colab.research.google.com/assets/colab-badge.svg\" alt=\"Open In Colab\"/></a>"
      ]
    },
    {
      "cell_type": "code",
      "source": [
        "import numpy as np\n",
        "import pandas as pd"
      ],
      "metadata": {
        "id": "9SoOkGVKzq2Y"
      },
      "execution_count": 1,
      "outputs": []
    },
    {
      "cell_type": "code",
      "source": [
        "df = pd.read_csv(\"/content/final_data_for_model_1.csv\")"
      ],
      "metadata": {
        "id": "9i2A0K-JzydX"
      },
      "execution_count": 2,
      "outputs": []
    },
    {
      "cell_type": "code",
      "source": [
        "df.head()"
      ],
      "metadata": {
        "colab": {
          "base_uri": "https://localhost:8080/",
          "height": 305
        },
        "id": "IFWJK39yz7Yf",
        "outputId": "46ee1bbd-a6ce-4f69-d8a9-bb48482b65dd"
      },
      "execution_count": 3,
      "outputs": [
        {
          "output_type": "execute_result",
          "data": {
            "text/plain": [
              "   Unnamed: 0  Unnamed: 0.1 formation  gk rating  defence rating  \\\n",
              "0           0             0     3-4-3        165             601   \n",
              "1           1             1     4-4-2        277             435   \n",
              "2           2             2     3-4-3        312             300   \n",
              "3           3             3     3-5-2        145             381   \n",
              "4           4             4     3-4-3        226             483   \n",
              "\n",
              "   midfield rating  attack rating  net stamina  net physicallity  \\\n",
              "0              133            370         2237              2258   \n",
              "1              282            278         2224              2210   \n",
              "2              260            340         2232              2267   \n",
              "3              292            215         2217              2322   \n",
              "4              146            152         2346              2317   \n",
              "\n",
              "  away formation  away gk rating  away defence rating  away midfield rating  \\\n",
              "0        4-4-1-1             285                  588                   435   \n",
              "1          3-5-2             228                  491                   285   \n",
              "2        4-4-1-1             214                  485                   237   \n",
              "3        4-2-3-1             315                  602                   206   \n",
              "4          3-4-3             278                  491                   357   \n",
              "\n",
              "   away attack rating  away net stamina  away net physicallity  home goals  \\\n",
              "0                 370              2314                   2342           4   \n",
              "1                 232              2277                   2216           0   \n",
              "2                 387              2255                   2233           2   \n",
              "3                 150              2095                   2258           0   \n",
              "4                 211              2011                   2188           1   \n",
              "\n",
              "   away goals home_result_list  \n",
              "0           3                W  \n",
              "1           2                L  \n",
              "2           3                L  \n",
              "3           3                L  \n",
              "4           0                W  "
            ],
            "text/html": [
              "\n",
              "  <div id=\"df-97cc5a01-10d3-4993-92f5-1e12a8da6e08\">\n",
              "    <div class=\"colab-df-container\">\n",
              "      <div>\n",
              "<style scoped>\n",
              "    .dataframe tbody tr th:only-of-type {\n",
              "        vertical-align: middle;\n",
              "    }\n",
              "\n",
              "    .dataframe tbody tr th {\n",
              "        vertical-align: top;\n",
              "    }\n",
              "\n",
              "    .dataframe thead th {\n",
              "        text-align: right;\n",
              "    }\n",
              "</style>\n",
              "<table border=\"1\" class=\"dataframe\">\n",
              "  <thead>\n",
              "    <tr style=\"text-align: right;\">\n",
              "      <th></th>\n",
              "      <th>Unnamed: 0</th>\n",
              "      <th>Unnamed: 0.1</th>\n",
              "      <th>formation</th>\n",
              "      <th>gk rating</th>\n",
              "      <th>defence rating</th>\n",
              "      <th>midfield rating</th>\n",
              "      <th>attack rating</th>\n",
              "      <th>net stamina</th>\n",
              "      <th>net physicallity</th>\n",
              "      <th>away formation</th>\n",
              "      <th>away gk rating</th>\n",
              "      <th>away defence rating</th>\n",
              "      <th>away midfield rating</th>\n",
              "      <th>away attack rating</th>\n",
              "      <th>away net stamina</th>\n",
              "      <th>away net physicallity</th>\n",
              "      <th>home goals</th>\n",
              "      <th>away goals</th>\n",
              "      <th>home_result_list</th>\n",
              "    </tr>\n",
              "  </thead>\n",
              "  <tbody>\n",
              "    <tr>\n",
              "      <th>0</th>\n",
              "      <td>0</td>\n",
              "      <td>0</td>\n",
              "      <td>3-4-3</td>\n",
              "      <td>165</td>\n",
              "      <td>601</td>\n",
              "      <td>133</td>\n",
              "      <td>370</td>\n",
              "      <td>2237</td>\n",
              "      <td>2258</td>\n",
              "      <td>4-4-1-1</td>\n",
              "      <td>285</td>\n",
              "      <td>588</td>\n",
              "      <td>435</td>\n",
              "      <td>370</td>\n",
              "      <td>2314</td>\n",
              "      <td>2342</td>\n",
              "      <td>4</td>\n",
              "      <td>3</td>\n",
              "      <td>W</td>\n",
              "    </tr>\n",
              "    <tr>\n",
              "      <th>1</th>\n",
              "      <td>1</td>\n",
              "      <td>1</td>\n",
              "      <td>4-4-2</td>\n",
              "      <td>277</td>\n",
              "      <td>435</td>\n",
              "      <td>282</td>\n",
              "      <td>278</td>\n",
              "      <td>2224</td>\n",
              "      <td>2210</td>\n",
              "      <td>3-5-2</td>\n",
              "      <td>228</td>\n",
              "      <td>491</td>\n",
              "      <td>285</td>\n",
              "      <td>232</td>\n",
              "      <td>2277</td>\n",
              "      <td>2216</td>\n",
              "      <td>0</td>\n",
              "      <td>2</td>\n",
              "      <td>L</td>\n",
              "    </tr>\n",
              "    <tr>\n",
              "      <th>2</th>\n",
              "      <td>2</td>\n",
              "      <td>2</td>\n",
              "      <td>3-4-3</td>\n",
              "      <td>312</td>\n",
              "      <td>300</td>\n",
              "      <td>260</td>\n",
              "      <td>340</td>\n",
              "      <td>2232</td>\n",
              "      <td>2267</td>\n",
              "      <td>4-4-1-1</td>\n",
              "      <td>214</td>\n",
              "      <td>485</td>\n",
              "      <td>237</td>\n",
              "      <td>387</td>\n",
              "      <td>2255</td>\n",
              "      <td>2233</td>\n",
              "      <td>2</td>\n",
              "      <td>3</td>\n",
              "      <td>L</td>\n",
              "    </tr>\n",
              "    <tr>\n",
              "      <th>3</th>\n",
              "      <td>3</td>\n",
              "      <td>3</td>\n",
              "      <td>3-5-2</td>\n",
              "      <td>145</td>\n",
              "      <td>381</td>\n",
              "      <td>292</td>\n",
              "      <td>215</td>\n",
              "      <td>2217</td>\n",
              "      <td>2322</td>\n",
              "      <td>4-2-3-1</td>\n",
              "      <td>315</td>\n",
              "      <td>602</td>\n",
              "      <td>206</td>\n",
              "      <td>150</td>\n",
              "      <td>2095</td>\n",
              "      <td>2258</td>\n",
              "      <td>0</td>\n",
              "      <td>3</td>\n",
              "      <td>L</td>\n",
              "    </tr>\n",
              "    <tr>\n",
              "      <th>4</th>\n",
              "      <td>4</td>\n",
              "      <td>4</td>\n",
              "      <td>3-4-3</td>\n",
              "      <td>226</td>\n",
              "      <td>483</td>\n",
              "      <td>146</td>\n",
              "      <td>152</td>\n",
              "      <td>2346</td>\n",
              "      <td>2317</td>\n",
              "      <td>3-4-3</td>\n",
              "      <td>278</td>\n",
              "      <td>491</td>\n",
              "      <td>357</td>\n",
              "      <td>211</td>\n",
              "      <td>2011</td>\n",
              "      <td>2188</td>\n",
              "      <td>1</td>\n",
              "      <td>0</td>\n",
              "      <td>W</td>\n",
              "    </tr>\n",
              "  </tbody>\n",
              "</table>\n",
              "</div>\n",
              "      <button class=\"colab-df-convert\" onclick=\"convertToInteractive('df-97cc5a01-10d3-4993-92f5-1e12a8da6e08')\"\n",
              "              title=\"Convert this dataframe to an interactive table.\"\n",
              "              style=\"display:none;\">\n",
              "        \n",
              "  <svg xmlns=\"http://www.w3.org/2000/svg\" height=\"24px\"viewBox=\"0 0 24 24\"\n",
              "       width=\"24px\">\n",
              "    <path d=\"M0 0h24v24H0V0z\" fill=\"none\"/>\n",
              "    <path d=\"M18.56 5.44l.94 2.06.94-2.06 2.06-.94-2.06-.94-.94-2.06-.94 2.06-2.06.94zm-11 1L8.5 8.5l.94-2.06 2.06-.94-2.06-.94L8.5 2.5l-.94 2.06-2.06.94zm10 10l.94 2.06.94-2.06 2.06-.94-2.06-.94-.94-2.06-.94 2.06-2.06.94z\"/><path d=\"M17.41 7.96l-1.37-1.37c-.4-.4-.92-.59-1.43-.59-.52 0-1.04.2-1.43.59L10.3 9.45l-7.72 7.72c-.78.78-.78 2.05 0 2.83L4 21.41c.39.39.9.59 1.41.59.51 0 1.02-.2 1.41-.59l7.78-7.78 2.81-2.81c.8-.78.8-2.07 0-2.86zM5.41 20L4 18.59l7.72-7.72 1.47 1.35L5.41 20z\"/>\n",
              "  </svg>\n",
              "      </button>\n",
              "      \n",
              "  <style>\n",
              "    .colab-df-container {\n",
              "      display:flex;\n",
              "      flex-wrap:wrap;\n",
              "      gap: 12px;\n",
              "    }\n",
              "\n",
              "    .colab-df-convert {\n",
              "      background-color: #E8F0FE;\n",
              "      border: none;\n",
              "      border-radius: 50%;\n",
              "      cursor: pointer;\n",
              "      display: none;\n",
              "      fill: #1967D2;\n",
              "      height: 32px;\n",
              "      padding: 0 0 0 0;\n",
              "      width: 32px;\n",
              "    }\n",
              "\n",
              "    .colab-df-convert:hover {\n",
              "      background-color: #E2EBFA;\n",
              "      box-shadow: 0px 1px 2px rgba(60, 64, 67, 0.3), 0px 1px 3px 1px rgba(60, 64, 67, 0.15);\n",
              "      fill: #174EA6;\n",
              "    }\n",
              "\n",
              "    [theme=dark] .colab-df-convert {\n",
              "      background-color: #3B4455;\n",
              "      fill: #D2E3FC;\n",
              "    }\n",
              "\n",
              "    [theme=dark] .colab-df-convert:hover {\n",
              "      background-color: #434B5C;\n",
              "      box-shadow: 0px 1px 3px 1px rgba(0, 0, 0, 0.15);\n",
              "      filter: drop-shadow(0px 1px 2px rgba(0, 0, 0, 0.3));\n",
              "      fill: #FFFFFF;\n",
              "    }\n",
              "  </style>\n",
              "\n",
              "      <script>\n",
              "        const buttonEl =\n",
              "          document.querySelector('#df-97cc5a01-10d3-4993-92f5-1e12a8da6e08 button.colab-df-convert');\n",
              "        buttonEl.style.display =\n",
              "          google.colab.kernel.accessAllowed ? 'block' : 'none';\n",
              "\n",
              "        async function convertToInteractive(key) {\n",
              "          const element = document.querySelector('#df-97cc5a01-10d3-4993-92f5-1e12a8da6e08');\n",
              "          const dataTable =\n",
              "            await google.colab.kernel.invokeFunction('convertToInteractive',\n",
              "                                                     [key], {});\n",
              "          if (!dataTable) return;\n",
              "\n",
              "          const docLinkHtml = 'Like what you see? Visit the ' +\n",
              "            '<a target=\"_blank\" href=https://colab.research.google.com/notebooks/data_table.ipynb>data table notebook</a>'\n",
              "            + ' to learn more about interactive tables.';\n",
              "          element.innerHTML = '';\n",
              "          dataTable['output_type'] = 'display_data';\n",
              "          await google.colab.output.renderOutput(dataTable, element);\n",
              "          const docLink = document.createElement('div');\n",
              "          docLink.innerHTML = docLinkHtml;\n",
              "          element.appendChild(docLink);\n",
              "        }\n",
              "      </script>\n",
              "    </div>\n",
              "  </div>\n",
              "  "
            ]
          },
          "metadata": {},
          "execution_count": 3
        }
      ]
    },
    {
      "cell_type": "code",
      "source": [
        "df = df.drop(['Unnamed: 0', 'Unnamed: 0.1'], axis=1)"
      ],
      "metadata": {
        "id": "xI4C6m3Fz_Y_"
      },
      "execution_count": 4,
      "outputs": []
    },
    {
      "cell_type": "code",
      "source": [
        "len(df['formation'].unique())"
      ],
      "metadata": {
        "colab": {
          "base_uri": "https://localhost:8080/"
        },
        "id": "oAbjOVMT0wku",
        "outputId": "859d57c2-e0fd-41fc-ec6f-d32f90d71377"
      },
      "execution_count": 5,
      "outputs": [
        {
          "output_type": "execute_result",
          "data": {
            "text/plain": [
              "27"
            ]
          },
          "metadata": {},
          "execution_count": 5
        }
      ]
    },
    {
      "cell_type": "markdown",
      "source": [
        "# encoding formation column using target encoding"
      ],
      "metadata": {
        "id": "p4xs6aqK66Ep"
      }
    },
    {
      "cell_type": "code",
      "source": [
        "df1 = df.copy()"
      ],
      "metadata": {
        "id": "MKVlDnwb6--w"
      },
      "execution_count": 8,
      "outputs": []
    },
    {
      "cell_type": "code",
      "source": [
        "# autos[\"make_encoded\"] = autos.groupby(\"make\")[\"price\"].transform(\"mean\")\n",
        "\n",
        "df1['formation'] = df1.groupby(\"formation\")[\"home goals\"].transform(\"mean\")\n",
        "df1['away formation'] = df1.groupby(\"away formation\")[\"away goals\"].transform(\"mean\")"
      ],
      "metadata": {
        "id": "ynuWsuUC7ObO"
      },
      "execution_count": 9,
      "outputs": []
    },
    {
      "cell_type": "code",
      "source": [
        "df1.head()"
      ],
      "metadata": {
        "colab": {
          "base_uri": "https://localhost:8080/",
          "height": 305
        },
        "id": "eTZrW1tA78NT",
        "outputId": "e70e22be-4f02-45f6-d19e-193084dbcd2a"
      },
      "execution_count": 10,
      "outputs": [
        {
          "output_type": "execute_result",
          "data": {
            "text/plain": [
              "   formation  gk rating  defence rating  midfield rating  attack rating  \\\n",
              "0   1.567901        165             601              133            370   \n",
              "1   1.231047        277             435              282            278   \n",
              "2   1.567901        312             300              260            340   \n",
              "3   1.107527        145             381              292            215   \n",
              "4   1.567901        226             483              146            152   \n",
              "\n",
              "   net stamina  net physicallity  away formation  away gk rating  \\\n",
              "0         2237              2258        0.942529             285   \n",
              "1         2224              2210        0.975207             228   \n",
              "2         2232              2267        0.942529             214   \n",
              "3         2217              2322        1.295652             315   \n",
              "4         2346              2317        1.254630             278   \n",
              "\n",
              "   away defence rating  away midfield rating  away attack rating  \\\n",
              "0                  588                   435                 370   \n",
              "1                  491                   285                 232   \n",
              "2                  485                   237                 387   \n",
              "3                  602                   206                 150   \n",
              "4                  491                   357                 211   \n",
              "\n",
              "   away net stamina  away net physicallity  home goals  away goals  \\\n",
              "0              2314                   2342           4           3   \n",
              "1              2277                   2216           0           2   \n",
              "2              2255                   2233           2           3   \n",
              "3              2095                   2258           0           3   \n",
              "4              2011                   2188           1           0   \n",
              "\n",
              "  home_result_list  \n",
              "0                W  \n",
              "1                L  \n",
              "2                L  \n",
              "3                L  \n",
              "4                W  "
            ],
            "text/html": [
              "\n",
              "  <div id=\"df-6c0f853a-b389-4ecf-bd94-069c04839c00\">\n",
              "    <div class=\"colab-df-container\">\n",
              "      <div>\n",
              "<style scoped>\n",
              "    .dataframe tbody tr th:only-of-type {\n",
              "        vertical-align: middle;\n",
              "    }\n",
              "\n",
              "    .dataframe tbody tr th {\n",
              "        vertical-align: top;\n",
              "    }\n",
              "\n",
              "    .dataframe thead th {\n",
              "        text-align: right;\n",
              "    }\n",
              "</style>\n",
              "<table border=\"1\" class=\"dataframe\">\n",
              "  <thead>\n",
              "    <tr style=\"text-align: right;\">\n",
              "      <th></th>\n",
              "      <th>formation</th>\n",
              "      <th>gk rating</th>\n",
              "      <th>defence rating</th>\n",
              "      <th>midfield rating</th>\n",
              "      <th>attack rating</th>\n",
              "      <th>net stamina</th>\n",
              "      <th>net physicallity</th>\n",
              "      <th>away formation</th>\n",
              "      <th>away gk rating</th>\n",
              "      <th>away defence rating</th>\n",
              "      <th>away midfield rating</th>\n",
              "      <th>away attack rating</th>\n",
              "      <th>away net stamina</th>\n",
              "      <th>away net physicallity</th>\n",
              "      <th>home goals</th>\n",
              "      <th>away goals</th>\n",
              "      <th>home_result_list</th>\n",
              "    </tr>\n",
              "  </thead>\n",
              "  <tbody>\n",
              "    <tr>\n",
              "      <th>0</th>\n",
              "      <td>1.567901</td>\n",
              "      <td>165</td>\n",
              "      <td>601</td>\n",
              "      <td>133</td>\n",
              "      <td>370</td>\n",
              "      <td>2237</td>\n",
              "      <td>2258</td>\n",
              "      <td>0.942529</td>\n",
              "      <td>285</td>\n",
              "      <td>588</td>\n",
              "      <td>435</td>\n",
              "      <td>370</td>\n",
              "      <td>2314</td>\n",
              "      <td>2342</td>\n",
              "      <td>4</td>\n",
              "      <td>3</td>\n",
              "      <td>W</td>\n",
              "    </tr>\n",
              "    <tr>\n",
              "      <th>1</th>\n",
              "      <td>1.231047</td>\n",
              "      <td>277</td>\n",
              "      <td>435</td>\n",
              "      <td>282</td>\n",
              "      <td>278</td>\n",
              "      <td>2224</td>\n",
              "      <td>2210</td>\n",
              "      <td>0.975207</td>\n",
              "      <td>228</td>\n",
              "      <td>491</td>\n",
              "      <td>285</td>\n",
              "      <td>232</td>\n",
              "      <td>2277</td>\n",
              "      <td>2216</td>\n",
              "      <td>0</td>\n",
              "      <td>2</td>\n",
              "      <td>L</td>\n",
              "    </tr>\n",
              "    <tr>\n",
              "      <th>2</th>\n",
              "      <td>1.567901</td>\n",
              "      <td>312</td>\n",
              "      <td>300</td>\n",
              "      <td>260</td>\n",
              "      <td>340</td>\n",
              "      <td>2232</td>\n",
              "      <td>2267</td>\n",
              "      <td>0.942529</td>\n",
              "      <td>214</td>\n",
              "      <td>485</td>\n",
              "      <td>237</td>\n",
              "      <td>387</td>\n",
              "      <td>2255</td>\n",
              "      <td>2233</td>\n",
              "      <td>2</td>\n",
              "      <td>3</td>\n",
              "      <td>L</td>\n",
              "    </tr>\n",
              "    <tr>\n",
              "      <th>3</th>\n",
              "      <td>1.107527</td>\n",
              "      <td>145</td>\n",
              "      <td>381</td>\n",
              "      <td>292</td>\n",
              "      <td>215</td>\n",
              "      <td>2217</td>\n",
              "      <td>2322</td>\n",
              "      <td>1.295652</td>\n",
              "      <td>315</td>\n",
              "      <td>602</td>\n",
              "      <td>206</td>\n",
              "      <td>150</td>\n",
              "      <td>2095</td>\n",
              "      <td>2258</td>\n",
              "      <td>0</td>\n",
              "      <td>3</td>\n",
              "      <td>L</td>\n",
              "    </tr>\n",
              "    <tr>\n",
              "      <th>4</th>\n",
              "      <td>1.567901</td>\n",
              "      <td>226</td>\n",
              "      <td>483</td>\n",
              "      <td>146</td>\n",
              "      <td>152</td>\n",
              "      <td>2346</td>\n",
              "      <td>2317</td>\n",
              "      <td>1.254630</td>\n",
              "      <td>278</td>\n",
              "      <td>491</td>\n",
              "      <td>357</td>\n",
              "      <td>211</td>\n",
              "      <td>2011</td>\n",
              "      <td>2188</td>\n",
              "      <td>1</td>\n",
              "      <td>0</td>\n",
              "      <td>W</td>\n",
              "    </tr>\n",
              "  </tbody>\n",
              "</table>\n",
              "</div>\n",
              "      <button class=\"colab-df-convert\" onclick=\"convertToInteractive('df-6c0f853a-b389-4ecf-bd94-069c04839c00')\"\n",
              "              title=\"Convert this dataframe to an interactive table.\"\n",
              "              style=\"display:none;\">\n",
              "        \n",
              "  <svg xmlns=\"http://www.w3.org/2000/svg\" height=\"24px\"viewBox=\"0 0 24 24\"\n",
              "       width=\"24px\">\n",
              "    <path d=\"M0 0h24v24H0V0z\" fill=\"none\"/>\n",
              "    <path d=\"M18.56 5.44l.94 2.06.94-2.06 2.06-.94-2.06-.94-.94-2.06-.94 2.06-2.06.94zm-11 1L8.5 8.5l.94-2.06 2.06-.94-2.06-.94L8.5 2.5l-.94 2.06-2.06.94zm10 10l.94 2.06.94-2.06 2.06-.94-2.06-.94-.94-2.06-.94 2.06-2.06.94z\"/><path d=\"M17.41 7.96l-1.37-1.37c-.4-.4-.92-.59-1.43-.59-.52 0-1.04.2-1.43.59L10.3 9.45l-7.72 7.72c-.78.78-.78 2.05 0 2.83L4 21.41c.39.39.9.59 1.41.59.51 0 1.02-.2 1.41-.59l7.78-7.78 2.81-2.81c.8-.78.8-2.07 0-2.86zM5.41 20L4 18.59l7.72-7.72 1.47 1.35L5.41 20z\"/>\n",
              "  </svg>\n",
              "      </button>\n",
              "      \n",
              "  <style>\n",
              "    .colab-df-container {\n",
              "      display:flex;\n",
              "      flex-wrap:wrap;\n",
              "      gap: 12px;\n",
              "    }\n",
              "\n",
              "    .colab-df-convert {\n",
              "      background-color: #E8F0FE;\n",
              "      border: none;\n",
              "      border-radius: 50%;\n",
              "      cursor: pointer;\n",
              "      display: none;\n",
              "      fill: #1967D2;\n",
              "      height: 32px;\n",
              "      padding: 0 0 0 0;\n",
              "      width: 32px;\n",
              "    }\n",
              "\n",
              "    .colab-df-convert:hover {\n",
              "      background-color: #E2EBFA;\n",
              "      box-shadow: 0px 1px 2px rgba(60, 64, 67, 0.3), 0px 1px 3px 1px rgba(60, 64, 67, 0.15);\n",
              "      fill: #174EA6;\n",
              "    }\n",
              "\n",
              "    [theme=dark] .colab-df-convert {\n",
              "      background-color: #3B4455;\n",
              "      fill: #D2E3FC;\n",
              "    }\n",
              "\n",
              "    [theme=dark] .colab-df-convert:hover {\n",
              "      background-color: #434B5C;\n",
              "      box-shadow: 0px 1px 3px 1px rgba(0, 0, 0, 0.15);\n",
              "      filter: drop-shadow(0px 1px 2px rgba(0, 0, 0, 0.3));\n",
              "      fill: #FFFFFF;\n",
              "    }\n",
              "  </style>\n",
              "\n",
              "      <script>\n",
              "        const buttonEl =\n",
              "          document.querySelector('#df-6c0f853a-b389-4ecf-bd94-069c04839c00 button.colab-df-convert');\n",
              "        buttonEl.style.display =\n",
              "          google.colab.kernel.accessAllowed ? 'block' : 'none';\n",
              "\n",
              "        async function convertToInteractive(key) {\n",
              "          const element = document.querySelector('#df-6c0f853a-b389-4ecf-bd94-069c04839c00');\n",
              "          const dataTable =\n",
              "            await google.colab.kernel.invokeFunction('convertToInteractive',\n",
              "                                                     [key], {});\n",
              "          if (!dataTable) return;\n",
              "\n",
              "          const docLinkHtml = 'Like what you see? Visit the ' +\n",
              "            '<a target=\"_blank\" href=https://colab.research.google.com/notebooks/data_table.ipynb>data table notebook</a>'\n",
              "            + ' to learn more about interactive tables.';\n",
              "          element.innerHTML = '';\n",
              "          dataTable['output_type'] = 'display_data';\n",
              "          await google.colab.output.renderOutput(dataTable, element);\n",
              "          const docLink = document.createElement('div');\n",
              "          docLink.innerHTML = docLinkHtml;\n",
              "          element.appendChild(docLink);\n",
              "        }\n",
              "      </script>\n",
              "    </div>\n",
              "  </div>\n",
              "  "
            ]
          },
          "metadata": {},
          "execution_count": 10
        }
      ]
    },
    {
      "cell_type": "markdown",
      "source": [
        "## getting features and labels before scaling"
      ],
      "metadata": {
        "id": "f8uFsIstkLYa"
      }
    },
    {
      "cell_type": "code",
      "source": [
        "y_tree_based = df1['home goals'].values\n",
        "\n",
        "x_tree_based = df1.drop(['home goals', 'away goals', 'home_result_list'], axis=1).values"
      ],
      "metadata": {
        "id": "JtApG-oikUeH"
      },
      "execution_count": 94,
      "outputs": []
    },
    {
      "cell_type": "code",
      "source": [
        "from sklearn.model_selection import train_test_split\n",
        "\n",
        "x_train_tree, x_test_tree, y_train_tree, y_test_tree = train_test_split(x_tree_based, y_tree_based, test_size=0.25, random_state= 42)"
      ],
      "metadata": {
        "id": "gEbXg8lnkUeI"
      },
      "execution_count": 95,
      "outputs": []
    },
    {
      "cell_type": "code",
      "source": [
        "df2 = df1.copy()"
      ],
      "metadata": {
        "id": "Q8WTb-Jx-m6L"
      },
      "execution_count": 14,
      "outputs": []
    },
    {
      "cell_type": "code",
      "source": [
        "from sklearn.preprocessing import StandardScaler\n",
        "scaler = StandardScaler()\n",
        "\n",
        "df2[['gk rating', 'defence rating', 'midfield rating',\n",
        "                                                'attack rating', 'net stamina', 'net physicallity','away gk rating', 'away defence rating', 'away midfield rating',\n",
        "                                                'away attack rating', 'away net stamina', 'away net physicallity']] = scaler.fit_transform(df2[[ 'gk rating', 'defence rating', 'midfield rating',\n",
        "                                                'attack rating', 'net stamina', 'net physicallity','away gk rating', 'away defence rating', 'away midfield rating',\n",
        "                                                'away attack rating', 'away net stamina', 'away net physicallity']])"
      ],
      "metadata": {
        "id": "fSPs4XeQ9dfQ"
      },
      "execution_count": null,
      "outputs": []
    },
    {
      "cell_type": "code",
      "source": [
        "df3 = df1.copy()"
      ],
      "metadata": {
        "id": "8wpP3273AYtK"
      },
      "execution_count": 15,
      "outputs": []
    },
    {
      "cell_type": "code",
      "source": [
        "from sklearn.preprocessing import MinMaxScaler\n",
        "mms = MinMaxScaler()\n",
        "\n",
        "df3[['gk rating', 'defence rating', 'midfield rating',\n",
        "                                                'attack rating', 'net stamina', 'net physicallity','away gk rating', 'away defence rating', 'away midfield rating',\n",
        "                                                'away attack rating', 'away net stamina', 'away net physicallity']] = mms.fit_transform(df3[[ 'gk rating', 'defence rating', 'midfield rating',\n",
        "                                                'attack rating', 'net stamina', 'net physicallity','away gk rating', 'away defence rating', 'away midfield rating',\n",
        "                                                'away attack rating', 'away net stamina', 'away net physicallity']])"
      ],
      "metadata": {
        "id": "KgXynpRG_kFM"
      },
      "execution_count": null,
      "outputs": []
    },
    {
      "cell_type": "code",
      "source": [
        "df3.head()"
      ],
      "metadata": {
        "colab": {
          "base_uri": "https://localhost:8080/",
          "height": 285
        },
        "id": "4FnuT_ANAhLw",
        "outputId": "0090e4d4-acd5-41d5-9588-08b2b9e07028"
      },
      "execution_count": null,
      "outputs": [
        {
          "output_type": "execute_result",
          "data": {
            "text/plain": [
              "   formation  gk rating  defence rating  midfield rating  attack rating  \\\n",
              "0   1.567901   0.112360        0.611285         0.203053       0.838798   \n",
              "1   1.231047   0.531835        0.351097         0.430534       0.587432   \n",
              "2   1.567901   0.662921        0.139498         0.396947       0.756831   \n",
              "3   1.107527   0.037453        0.266458         0.445802       0.415301   \n",
              "4   1.567901   0.340824        0.426332         0.222901       0.243169   \n",
              "\n",
              "   net stamina  net physicallity  away formation  away gk rating  \\\n",
              "0     0.724951          0.650467        0.942529        0.561798   \n",
              "1     0.699411          0.560748        0.975207        0.348315   \n",
              "2     0.715128          0.667290        0.942529        0.295880   \n",
              "3     0.685658          0.770093        1.295652        0.674157   \n",
              "4     0.939096          0.760748        1.254630        0.535581   \n",
              "\n",
              "   away defence rating  away midfield rating  away attack rating  \\\n",
              "0             0.590909              0.664122            0.717054   \n",
              "1             0.438871              0.435115            0.449612   \n",
              "2             0.429467              0.361832            0.750000   \n",
              "3             0.612853              0.314504            0.290698   \n",
              "4             0.438871              0.545038            0.408915   \n",
              "\n",
              "   away net stamina  away net physicallity  home goals  away goals  \\\n",
              "0          0.876228               0.807477           4           3   \n",
              "1          0.803536               0.571963           0           2   \n",
              "2          0.760314               0.603738           2           3   \n",
              "3          0.445972               0.650467           0           3   \n",
              "4          0.280943               0.519626           1           0   \n",
              "\n",
              "  home_result_list  \n",
              "0                W  \n",
              "1                L  \n",
              "2                L  \n",
              "3                L  \n",
              "4                W  "
            ],
            "text/html": [
              "\n",
              "  <div id=\"df-f0037d70-b10c-4139-8df0-35abfb31d971\">\n",
              "    <div class=\"colab-df-container\">\n",
              "      <div>\n",
              "<style scoped>\n",
              "    .dataframe tbody tr th:only-of-type {\n",
              "        vertical-align: middle;\n",
              "    }\n",
              "\n",
              "    .dataframe tbody tr th {\n",
              "        vertical-align: top;\n",
              "    }\n",
              "\n",
              "    .dataframe thead th {\n",
              "        text-align: right;\n",
              "    }\n",
              "</style>\n",
              "<table border=\"1\" class=\"dataframe\">\n",
              "  <thead>\n",
              "    <tr style=\"text-align: right;\">\n",
              "      <th></th>\n",
              "      <th>formation</th>\n",
              "      <th>gk rating</th>\n",
              "      <th>defence rating</th>\n",
              "      <th>midfield rating</th>\n",
              "      <th>attack rating</th>\n",
              "      <th>net stamina</th>\n",
              "      <th>net physicallity</th>\n",
              "      <th>away formation</th>\n",
              "      <th>away gk rating</th>\n",
              "      <th>away defence rating</th>\n",
              "      <th>away midfield rating</th>\n",
              "      <th>away attack rating</th>\n",
              "      <th>away net stamina</th>\n",
              "      <th>away net physicallity</th>\n",
              "      <th>home goals</th>\n",
              "      <th>away goals</th>\n",
              "      <th>home_result_list</th>\n",
              "    </tr>\n",
              "  </thead>\n",
              "  <tbody>\n",
              "    <tr>\n",
              "      <th>0</th>\n",
              "      <td>1.567901</td>\n",
              "      <td>0.112360</td>\n",
              "      <td>0.611285</td>\n",
              "      <td>0.203053</td>\n",
              "      <td>0.838798</td>\n",
              "      <td>0.724951</td>\n",
              "      <td>0.650467</td>\n",
              "      <td>0.942529</td>\n",
              "      <td>0.561798</td>\n",
              "      <td>0.590909</td>\n",
              "      <td>0.664122</td>\n",
              "      <td>0.717054</td>\n",
              "      <td>0.876228</td>\n",
              "      <td>0.807477</td>\n",
              "      <td>4</td>\n",
              "      <td>3</td>\n",
              "      <td>W</td>\n",
              "    </tr>\n",
              "    <tr>\n",
              "      <th>1</th>\n",
              "      <td>1.231047</td>\n",
              "      <td>0.531835</td>\n",
              "      <td>0.351097</td>\n",
              "      <td>0.430534</td>\n",
              "      <td>0.587432</td>\n",
              "      <td>0.699411</td>\n",
              "      <td>0.560748</td>\n",
              "      <td>0.975207</td>\n",
              "      <td>0.348315</td>\n",
              "      <td>0.438871</td>\n",
              "      <td>0.435115</td>\n",
              "      <td>0.449612</td>\n",
              "      <td>0.803536</td>\n",
              "      <td>0.571963</td>\n",
              "      <td>0</td>\n",
              "      <td>2</td>\n",
              "      <td>L</td>\n",
              "    </tr>\n",
              "    <tr>\n",
              "      <th>2</th>\n",
              "      <td>1.567901</td>\n",
              "      <td>0.662921</td>\n",
              "      <td>0.139498</td>\n",
              "      <td>0.396947</td>\n",
              "      <td>0.756831</td>\n",
              "      <td>0.715128</td>\n",
              "      <td>0.667290</td>\n",
              "      <td>0.942529</td>\n",
              "      <td>0.295880</td>\n",
              "      <td>0.429467</td>\n",
              "      <td>0.361832</td>\n",
              "      <td>0.750000</td>\n",
              "      <td>0.760314</td>\n",
              "      <td>0.603738</td>\n",
              "      <td>2</td>\n",
              "      <td>3</td>\n",
              "      <td>L</td>\n",
              "    </tr>\n",
              "    <tr>\n",
              "      <th>3</th>\n",
              "      <td>1.107527</td>\n",
              "      <td>0.037453</td>\n",
              "      <td>0.266458</td>\n",
              "      <td>0.445802</td>\n",
              "      <td>0.415301</td>\n",
              "      <td>0.685658</td>\n",
              "      <td>0.770093</td>\n",
              "      <td>1.295652</td>\n",
              "      <td>0.674157</td>\n",
              "      <td>0.612853</td>\n",
              "      <td>0.314504</td>\n",
              "      <td>0.290698</td>\n",
              "      <td>0.445972</td>\n",
              "      <td>0.650467</td>\n",
              "      <td>0</td>\n",
              "      <td>3</td>\n",
              "      <td>L</td>\n",
              "    </tr>\n",
              "    <tr>\n",
              "      <th>4</th>\n",
              "      <td>1.567901</td>\n",
              "      <td>0.340824</td>\n",
              "      <td>0.426332</td>\n",
              "      <td>0.222901</td>\n",
              "      <td>0.243169</td>\n",
              "      <td>0.939096</td>\n",
              "      <td>0.760748</td>\n",
              "      <td>1.254630</td>\n",
              "      <td>0.535581</td>\n",
              "      <td>0.438871</td>\n",
              "      <td>0.545038</td>\n",
              "      <td>0.408915</td>\n",
              "      <td>0.280943</td>\n",
              "      <td>0.519626</td>\n",
              "      <td>1</td>\n",
              "      <td>0</td>\n",
              "      <td>W</td>\n",
              "    </tr>\n",
              "  </tbody>\n",
              "</table>\n",
              "</div>\n",
              "      <button class=\"colab-df-convert\" onclick=\"convertToInteractive('df-f0037d70-b10c-4139-8df0-35abfb31d971')\"\n",
              "              title=\"Convert this dataframe to an interactive table.\"\n",
              "              style=\"display:none;\">\n",
              "        \n",
              "  <svg xmlns=\"http://www.w3.org/2000/svg\" height=\"24px\"viewBox=\"0 0 24 24\"\n",
              "       width=\"24px\">\n",
              "    <path d=\"M0 0h24v24H0V0z\" fill=\"none\"/>\n",
              "    <path d=\"M18.56 5.44l.94 2.06.94-2.06 2.06-.94-2.06-.94-.94-2.06-.94 2.06-2.06.94zm-11 1L8.5 8.5l.94-2.06 2.06-.94-2.06-.94L8.5 2.5l-.94 2.06-2.06.94zm10 10l.94 2.06.94-2.06 2.06-.94-2.06-.94-.94-2.06-.94 2.06-2.06.94z\"/><path d=\"M17.41 7.96l-1.37-1.37c-.4-.4-.92-.59-1.43-.59-.52 0-1.04.2-1.43.59L10.3 9.45l-7.72 7.72c-.78.78-.78 2.05 0 2.83L4 21.41c.39.39.9.59 1.41.59.51 0 1.02-.2 1.41-.59l7.78-7.78 2.81-2.81c.8-.78.8-2.07 0-2.86zM5.41 20L4 18.59l7.72-7.72 1.47 1.35L5.41 20z\"/>\n",
              "  </svg>\n",
              "      </button>\n",
              "      \n",
              "  <style>\n",
              "    .colab-df-container {\n",
              "      display:flex;\n",
              "      flex-wrap:wrap;\n",
              "      gap: 12px;\n",
              "    }\n",
              "\n",
              "    .colab-df-convert {\n",
              "      background-color: #E8F0FE;\n",
              "      border: none;\n",
              "      border-radius: 50%;\n",
              "      cursor: pointer;\n",
              "      display: none;\n",
              "      fill: #1967D2;\n",
              "      height: 32px;\n",
              "      padding: 0 0 0 0;\n",
              "      width: 32px;\n",
              "    }\n",
              "\n",
              "    .colab-df-convert:hover {\n",
              "      background-color: #E2EBFA;\n",
              "      box-shadow: 0px 1px 2px rgba(60, 64, 67, 0.3), 0px 1px 3px 1px rgba(60, 64, 67, 0.15);\n",
              "      fill: #174EA6;\n",
              "    }\n",
              "\n",
              "    [theme=dark] .colab-df-convert {\n",
              "      background-color: #3B4455;\n",
              "      fill: #D2E3FC;\n",
              "    }\n",
              "\n",
              "    [theme=dark] .colab-df-convert:hover {\n",
              "      background-color: #434B5C;\n",
              "      box-shadow: 0px 1px 3px 1px rgba(0, 0, 0, 0.15);\n",
              "      filter: drop-shadow(0px 1px 2px rgba(0, 0, 0, 0.3));\n",
              "      fill: #FFFFFF;\n",
              "    }\n",
              "  </style>\n",
              "\n",
              "      <script>\n",
              "        const buttonEl =\n",
              "          document.querySelector('#df-f0037d70-b10c-4139-8df0-35abfb31d971 button.colab-df-convert');\n",
              "        buttonEl.style.display =\n",
              "          google.colab.kernel.accessAllowed ? 'block' : 'none';\n",
              "\n",
              "        async function convertToInteractive(key) {\n",
              "          const element = document.querySelector('#df-f0037d70-b10c-4139-8df0-35abfb31d971');\n",
              "          const dataTable =\n",
              "            await google.colab.kernel.invokeFunction('convertToInteractive',\n",
              "                                                     [key], {});\n",
              "          if (!dataTable) return;\n",
              "\n",
              "          const docLinkHtml = 'Like what you see? Visit the ' +\n",
              "            '<a target=\"_blank\" href=https://colab.research.google.com/notebooks/data_table.ipynb>data table notebook</a>'\n",
              "            + ' to learn more about interactive tables.';\n",
              "          element.innerHTML = '';\n",
              "          dataTable['output_type'] = 'display_data';\n",
              "          await google.colab.output.renderOutput(dataTable, element);\n",
              "          const docLink = document.createElement('div');\n",
              "          docLink.innerHTML = docLinkHtml;\n",
              "          element.appendChild(docLink);\n",
              "        }\n",
              "      </script>\n",
              "    </div>\n",
              "  </div>\n",
              "  "
            ]
          },
          "metadata": {},
          "execution_count": 18
        }
      ]
    },
    {
      "cell_type": "code",
      "source": [
        "y = df3[['home goals','away goals']].values\n",
        "x = df3.drop(['home goals', 'away goals', 'home_result_list'], axis=1).values"
      ],
      "metadata": {
        "id": "zr_DwoFxAiCc"
      },
      "execution_count": null,
      "outputs": []
    },
    {
      "cell_type": "code",
      "source": [
        "from sklearn.model_selection import train_test_split\n",
        "\n",
        "X_train, X_test, y_train, y_test = train_test_split(x, y, test_size=0.20, random_state=2)"
      ],
      "metadata": {
        "id": "vsw9t_1FD3XJ"
      },
      "execution_count": null,
      "outputs": []
    },
    {
      "cell_type": "markdown",
      "source": [
        "#MODEL BUILDING USING LOGISTIC REGRESSION"
      ],
      "metadata": {
        "id": "qZkgzYpXEyG0"
      }
    },
    {
      "cell_type": "markdown",
      "source": [
        "## LogisticRegression is not inherently multiout put so we use result data as labels"
      ],
      "metadata": {
        "id": "6EDgH-ed9rio"
      }
    },
    {
      "cell_type": "code",
      "source": [
        "y_logistic = df3['home_result_list'].values\n",
        "x_logistic = df3.drop(['home goals', 'away goals', 'home_result_list'], axis=1).values\n",
        "\n",
        "for i in range(len(y_logistic)):\n",
        "  if y_logistic[i] == 'W':\n",
        "    y_logistic[i] = 2\n",
        "  if y_logistic[i] == 'D':\n",
        "    y_logistic[i] = 1\n",
        "  if y_logistic[i] == 'L':\n",
        "    y_logistic[i] = 0\n",
        "\n",
        "y_logistic = np.array(y_logistic)\n",
        "\n",
        "y_logistic = y_logistic.astype('int')\n",
        "\n",
        "y_logistic\n",
        "# from sklearn import preprocessing\n",
        "# le = preprocessing.LabelEncoder()\n",
        "# y_logistic = le.fit_transform(y_logistic)\n",
        "# y_logistic"
      ],
      "metadata": {
        "colab": {
          "base_uri": "https://localhost:8080/"
        },
        "id": "vG5J1Jao91JJ",
        "outputId": "1d77b7c2-924b-498e-dd73-80e1367efd05"
      },
      "execution_count": 56,
      "outputs": [
        {
          "output_type": "execute_result",
          "data": {
            "text/plain": [
              "array([2, 0, 0, ..., 2, 2, 1])"
            ]
          },
          "metadata": {},
          "execution_count": 56
        }
      ]
    },
    {
      "cell_type": "code",
      "source": [
        "from sklearn.model_selection import train_test_split\n",
        "\n",
        "X_train_logistic, X_test_logistic, y_train_logistic, y_test_logistic = train_test_split(x_logistic, y_logistic, test_size=0.15, random_state=42)"
      ],
      "metadata": {
        "id": "SxW5VRj6_lAy"
      },
      "execution_count": 58,
      "outputs": []
    },
    {
      "cell_type": "code",
      "source": [
        "from sklearn.linear_model import LogisticRegression\n",
        "LogisticRegressor = LogisticRegression(multi_class= \"multinomial\")\n",
        "LogisticRegressor.fit(X_train_logistic,y_train_logistic)"
      ],
      "metadata": {
        "colab": {
          "base_uri": "https://localhost:8080/"
        },
        "id": "AtsxXwDYEkLZ",
        "outputId": "9d81c7b2-bcb5-4a47-9b1e-33ded38935ca"
      },
      "execution_count": null,
      "outputs": [
        {
          "output_type": "execute_result",
          "data": {
            "text/plain": [
              "LogisticRegression(multi_class='multinomial')"
            ]
          },
          "metadata": {},
          "execution_count": 23
        }
      ]
    },
    {
      "cell_type": "code",
      "source": [
        "predictions_Logistic = LogisticRegressor.predict(X_test_logistic)\n",
        "predictions_Logistic"
      ],
      "metadata": {
        "id": "ojvG7HrzFGgi",
        "colab": {
          "base_uri": "https://localhost:8080/"
        },
        "outputId": "bf3b8bbf-35c7-4667-9d36-1583b6d62029"
      },
      "execution_count": null,
      "outputs": [
        {
          "output_type": "execute_result",
          "data": {
            "text/plain": [
              "array([0, 2, 2, 2, 2, 2, 0, 0, 0, 0, 0, 0, 2, 0, 0, 2, 2, 2, 0, 0, 2, 0,\n",
              "       2, 2, 2, 0, 2, 0, 2, 2, 0, 2, 0, 2, 2, 0, 2, 2, 2, 2, 2, 2, 0, 0,\n",
              "       2, 2, 2, 2, 0, 2, 2, 2, 2, 2, 0, 0, 0, 0, 0, 2, 0, 0, 2, 2, 2, 0,\n",
              "       0, 2, 0, 2, 0, 0, 2, 2, 2, 2, 2, 2, 2])"
            ]
          },
          "metadata": {},
          "execution_count": 24
        }
      ]
    },
    {
      "cell_type": "markdown",
      "source": [
        "## metrics"
      ],
      "metadata": {
        "id": "rY49uHdVBn9x"
      }
    },
    {
      "cell_type": "code",
      "source": [
        "from sklearn.metrics import accuracy_score\n",
        "accuracy_score(y_test_logistic, predictions_Logistic)"
      ],
      "metadata": {
        "colab": {
          "base_uri": "https://localhost:8080/"
        },
        "id": "EcTfd9eTBeKB",
        "outputId": "47c0fc08-76f3-44f7-8a61-235a82e7fd7c"
      },
      "execution_count": null,
      "outputs": [
        {
          "output_type": "execute_result",
          "data": {
            "text/plain": [
              "0.5443037974683544"
            ]
          },
          "metadata": {},
          "execution_count": 25
        }
      ]
    },
    {
      "cell_type": "code",
      "source": [
        "from sklearn.metrics import confusion_matrix\n",
        "confusion_matrix(y_test_logistic, predictions_Logistic)"
      ],
      "metadata": {
        "colab": {
          "base_uri": "https://localhost:8080/"
        },
        "id": "m3vIBgLOCXch",
        "outputId": "00959dfd-201b-46ac-e2f5-a4d33a2a5a42"
      },
      "execution_count": null,
      "outputs": [
        {
          "output_type": "execute_result",
          "data": {
            "text/plain": [
              "array([[19,  0,  9],\n",
              "       [ 9,  0, 14],\n",
              "       [ 4,  0, 24]])"
            ]
          },
          "metadata": {},
          "execution_count": 26
        }
      ]
    },
    {
      "cell_type": "code",
      "source": [
        "from sklearn.metrics import classification_report\n",
        " \n",
        "print(classification_report(y_test_logistic, predictions_Logistic))"
      ],
      "metadata": {
        "colab": {
          "base_uri": "https://localhost:8080/"
        },
        "id": "FTDzkm_VCx7a",
        "outputId": "ec6cbef4-84b1-46d5-ae2a-c6705c4b3c45"
      },
      "execution_count": null,
      "outputs": [
        {
          "output_type": "stream",
          "name": "stdout",
          "text": [
            "              precision    recall  f1-score   support\n",
            "\n",
            "           0       0.59      0.68      0.63        28\n",
            "           1       0.00      0.00      0.00        23\n",
            "           2       0.51      0.86      0.64        28\n",
            "\n",
            "    accuracy                           0.54        79\n",
            "   macro avg       0.37      0.51      0.42        79\n",
            "weighted avg       0.39      0.54      0.45        79\n",
            "\n"
          ]
        },
        {
          "output_type": "stream",
          "name": "stderr",
          "text": [
            "/usr/local/lib/python3.8/dist-packages/sklearn/metrics/_classification.py:1318: UndefinedMetricWarning: Precision and F-score are ill-defined and being set to 0.0 in labels with no predicted samples. Use `zero_division` parameter to control this behavior.\n",
            "  _warn_prf(average, modifier, msg_start, len(result))\n",
            "/usr/local/lib/python3.8/dist-packages/sklearn/metrics/_classification.py:1318: UndefinedMetricWarning: Precision and F-score are ill-defined and being set to 0.0 in labels with no predicted samples. Use `zero_division` parameter to control this behavior.\n",
            "  _warn_prf(average, modifier, msg_start, len(result))\n",
            "/usr/local/lib/python3.8/dist-packages/sklearn/metrics/_classification.py:1318: UndefinedMetricWarning: Precision and F-score are ill-defined and being set to 0.0 in labels with no predicted samples. Use `zero_division` parameter to control this behavior.\n",
            "  _warn_prf(average, modifier, msg_start, len(result))\n"
          ]
        }
      ]
    },
    {
      "cell_type": "markdown",
      "source": [
        "# k nearest neighbour model"
      ],
      "metadata": {
        "id": "hIwRZ-WWZ3in"
      }
    },
    {
      "cell_type": "code",
      "source": [
        "from sklearn.neighbors import KNeighborsClassifier\n",
        "KNeig_Classifier = KNeighborsClassifier(n_neighbors= 2)\n",
        "KNeig_Classifier.fit(X_train_logistic, y_train_logistic)\n",
        "\n",
        "KNeig_predictions = KNeig_Classifier.predict(X_test_logistic)\n"
      ],
      "metadata": {
        "id": "h5QVeH--aD_W"
      },
      "execution_count": null,
      "outputs": []
    },
    {
      "cell_type": "code",
      "source": [
        "# X_train_logistic, X_test_logistic, y_train_logistic, y_test_logistic"
      ],
      "metadata": {
        "id": "MN6dorm6d8q-"
      },
      "execution_count": null,
      "outputs": []
    },
    {
      "cell_type": "code",
      "source": [
        "y_results = df1['home_result_list'].values\n",
        "\n",
        "x_tree_based = df1.drop(['home goals', 'away goals', 'home_result_list'], axis=1).values"
      ],
      "metadata": {
        "id": "6ml0-NkrJ2Tk"
      },
      "execution_count": null,
      "outputs": []
    },
    {
      "cell_type": "code",
      "source": [
        "from sklearn.model_selection import train_test_split\n",
        "\n",
        "x_train_tree, x_test_tree, y_train_tree, y_test_tree = train_test_split(x_tree_based, y_tree_based, test_size=0.20, random_state= 10)"
      ],
      "metadata": {
        "id": "WnLKMeg-J2Tk"
      },
      "execution_count": null,
      "outputs": []
    },
    {
      "cell_type": "markdown",
      "source": [
        "# RANDOM FOREST"
      ],
      "metadata": {
        "id": "bIY7ja9kes4m"
      }
    },
    {
      "cell_type": "code",
      "source": [
        "from sklearn.ensemble import RandomForestClassifier\n",
        "RF_Classifier = RandomForestClassifier(max_depth=15, max_features = None, n_estimators=100)\n",
        "    # min_samples_split=3, max_leaf_nodes=5\n",
        "\n",
        "RF_Classifier.fit(x_train_tree,y_train_tree)\n",
        "RF_Classifier_predictions = RF_Classifier.predict(x_test_tree)\n",
        "RF_Classifier_predictions\n",
        "\n",
        "RF_Classifier_training_predictions = RF_Classifier.predict(x_train_tree)"
      ],
      "metadata": {
        "id": "JwB5zAF3myLw"
      },
      "execution_count": 54,
      "outputs": []
    },
    {
      "cell_type": "markdown",
      "source": [
        "## METRICS"
      ],
      "metadata": {
        "id": "A3ZzjPRNimzL"
      }
    },
    {
      "cell_type": "code",
      "source": [
        "from sklearn.metrics import accuracy_score\n",
        "print(accuracy_score(y_test_tree, RF_Classifier_predictions), accuracy_score(y_train_tree, RF_Classifier_training_predictions))"
      ],
      "metadata": {
        "colab": {
          "base_uri": "https://localhost:8080/"
        },
        "id": "N_QrE3ETEtBq",
        "outputId": "d2dca2e5-11b5-45f6-8e00-052f8de1bc75"
      },
      "execution_count": 55,
      "outputs": [
        {
          "output_type": "stream",
          "name": "stdout",
          "text": [
            "0.2984126984126984 0.981687898089172\n"
          ]
        }
      ]
    },
    {
      "cell_type": "code",
      "source": [
        "len(y_test_tree)"
      ],
      "metadata": {
        "colab": {
          "base_uri": "https://localhost:8080/"
        },
        "id": "CpWxdCHqHYfF",
        "outputId": "a93d81ea-b235-4405-c94f-db9e860027c6"
      },
      "execution_count": 39,
      "outputs": [
        {
          "output_type": "execute_result",
          "data": {
            "text/plain": [
              "315"
            ]
          },
          "metadata": {},
          "execution_count": 39
        }
      ]
    },
    {
      "cell_type": "code",
      "source": [
        "from sklearn.metrics import classification_report\n",
        "\n",
        "print(classification_report(y_test_tree, RF_Classifier_predictions))"
      ],
      "metadata": {
        "colab": {
          "base_uri": "https://localhost:8080/"
        },
        "id": "QKJ_R9dzjLZj",
        "outputId": "d9160edd-23f3-4331-e492-8d57a721ba76"
      },
      "execution_count": 38,
      "outputs": [
        {
          "output_type": "stream",
          "name": "stdout",
          "text": [
            "              precision    recall  f1-score   support\n",
            "\n",
            "           0       0.31      0.30      0.31        79\n",
            "           1       0.38      0.50      0.43       101\n",
            "           2       0.27      0.24      0.25        84\n",
            "           3       0.24      0.12      0.16        33\n",
            "           4       0.00      0.00      0.00         9\n",
            "           5       0.20      0.14      0.17         7\n",
            "           6       0.00      0.00      0.00         2\n",
            "\n",
            "    accuracy                           0.32       315\n",
            "   macro avg       0.20      0.19      0.19       315\n",
            "weighted avg       0.30      0.32      0.30       315\n",
            "\n"
          ]
        },
        {
          "output_type": "stream",
          "name": "stderr",
          "text": [
            "/usr/local/lib/python3.8/dist-packages/sklearn/metrics/_classification.py:1318: UndefinedMetricWarning: Precision and F-score are ill-defined and being set to 0.0 in labels with no predicted samples. Use `zero_division` parameter to control this behavior.\n",
            "  _warn_prf(average, modifier, msg_start, len(result))\n",
            "/usr/local/lib/python3.8/dist-packages/sklearn/metrics/_classification.py:1318: UndefinedMetricWarning: Precision and F-score are ill-defined and being set to 0.0 in labels with no predicted samples. Use `zero_division` parameter to control this behavior.\n",
            "  _warn_prf(average, modifier, msg_start, len(result))\n",
            "/usr/local/lib/python3.8/dist-packages/sklearn/metrics/_classification.py:1318: UndefinedMetricWarning: Precision and F-score are ill-defined and being set to 0.0 in labels with no predicted samples. Use `zero_division` parameter to control this behavior.\n",
            "  _warn_prf(average, modifier, msg_start, len(result))\n"
          ]
        }
      ]
    },
    {
      "cell_type": "code",
      "source": [
        "len(train_results)"
      ],
      "metadata": {
        "colab": {
          "base_uri": "https://localhost:8080/"
        },
        "id": "0dmSBDm8wh77",
        "outputId": "a7c980e9-5f96-4e0f-f6a4-250633768542"
      },
      "execution_count": null,
      "outputs": [
        {
          "output_type": "execute_result",
          "data": {
            "text/plain": [
              "1335"
            ]
          },
          "metadata": {},
          "execution_count": 112
        }
      ]
    },
    {
      "cell_type": "code",
      "source": [
        "b = pd.DataFrame(y_test_tree)\n",
        "b.hist()"
      ],
      "metadata": {
        "colab": {
          "base_uri": "https://localhost:8080/",
          "height": 316
        },
        "id": "ajvW1x4BoRt3",
        "outputId": "b902dcd0-ee97-4acb-d8f4-647dd84e2031"
      },
      "execution_count": 35,
      "outputs": [
        {
          "output_type": "execute_result",
          "data": {
            "text/plain": [
              "array([[<matplotlib.axes._subplots.AxesSubplot object at 0x7fa126d526d0>]],\n",
              "      dtype=object)"
            ]
          },
          "metadata": {},
          "execution_count": 35
        },
        {
          "output_type": "display_data",
          "data": {
            "text/plain": [
              "<Figure size 432x288 with 1 Axes>"
            ],
            "image/png": "[encoded data removed]"
          },
          "metadata": {
            "needs_background": "light"
          }
        }
      ]
    },
    {
      "cell_type": "code",
      "source": [
        "# a = np.unique(RF_Classifier_result, return_counts=True)\n",
        "a = pd.DataFrame(RF_Classifier_predictions)\n",
        "a.hist()"
      ],
      "metadata": {
        "colab": {
          "base_uri": "https://localhost:8080/",
          "height": 316
        },
        "id": "Xx9FtgkFn2-k",
        "outputId": "bf049257-64fa-42e3-c6dd-e404229d22c2"
      },
      "execution_count": 36,
      "outputs": [
        {
          "output_type": "execute_result",
          "data": {
            "text/plain": [
              "array([[<matplotlib.axes._subplots.AxesSubplot object at 0x7fa11d1156d0>]],\n",
              "      dtype=object)"
            ]
          },
          "metadata": {},
          "execution_count": 36
        },
        {
          "output_type": "display_data",
          "data": {
            "text/plain": [
              "<Figure size 432x288 with 1 Axes>"
            ],
            "image/png": "[encoded data removed]"
          },
          "metadata": {
            "needs_background": "light"
          }
        }
      ]
    },
    {
      "cell_type": "code",
      "source": [
        "distribution_home_results = df1['home_result_list']\n",
        "distribution_home_results.hist()"
      ],
      "metadata": {
        "colab": {
          "base_uri": "https://localhost:8080/",
          "height": 282
        },
        "id": "r6VE8YDzmdwi",
        "outputId": "a5805a4a-4137-4a73-ae43-79da41b0c218"
      },
      "execution_count": null,
      "outputs": [
        {
          "output_type": "execute_result",
          "data": {
            "text/plain": [
              "<matplotlib.axes._subplots.AxesSubplot at 0x7f15b777aeb0>"
            ]
          },
          "metadata": {},
          "execution_count": 115
        },
        {
          "output_type": "display_data",
          "data": {
            "text/plain": [
              "<Figure size 432x288 with 1 Axes>"
            ],
            "image/png": "[encoded data removed]"
          },
          "metadata": {
            "needs_background": "light"
          }
        }
      ]
    },
    {
      "cell_type": "markdown",
      "source": [
        "## RF FOR ONLY RESULTS"
      ],
      "metadata": {
        "id": "xypNsGRbKKvW"
      }
    },
    {
      "cell_type": "code",
      "source": [
        "RF_Classifier_OnlyResults = RandomForestClassifier(max_depth=15, max_features = None, n_estimators=100)\n",
        "RF_Classifier_OnlyResults.fit(X_train_logistic,y_train_logistic)\n",
        "\n",
        "RF_Classifier_OnlyResults_predictions = RF_Classifier_OnlyResults.predict(X_test_logistic)\n",
        "\n",
        "RF_Classifier_OnlyResults_predictions_training  = RF_Classifier_OnlyResults.predict(X_train_logistic)\n"
      ],
      "metadata": {
        "id": "T9gemlDSKKYQ"
      },
      "execution_count": 60,
      "outputs": []
    },
    {
      "cell_type": "markdown",
      "source": [
        "## METRICS"
      ],
      "metadata": {
        "id": "QL3lAZulLLsu"
      }
    },
    {
      "cell_type": "code",
      "source": [
        "from sklearn.metrics import accuracy_score\n",
        "print(accuracy_score(y_test_logistic, RF_Classifier_OnlyResults_predictions), accuracy_score(y_train_logistic, RF_Classifier_OnlyResults_predictions_training))"
      ],
      "metadata": {
        "colab": {
          "base_uri": "https://localhost:8080/"
        },
        "outputId": "f978cf9a-dbc7-4398-8576-6255ccfe4698",
        "id": "w17zgZOOLLsu"
      },
      "execution_count": 61,
      "outputs": [
        {
          "output_type": "stream",
          "name": "stdout",
          "text": [
            "0.5 0.9887640449438202\n"
          ]
        }
      ]
    },
    {
      "cell_type": "code",
      "source": [
        "from sklearn.metrics import classification_report\n",
        "\n",
        "print(classification_report(y_test_logistic, RF_Classifier_OnlyResults_predictions))"
      ],
      "metadata": {
        "colab": {
          "base_uri": "https://localhost:8080/"
        },
        "outputId": "78cfcdea-b9bc-43dc-9480-c497f2cd324f",
        "id": "3bzLpghpL9Fe"
      },
      "execution_count": 62,
      "outputs": [
        {
          "output_type": "stream",
          "name": "stdout",
          "text": [
            "              precision    recall  f1-score   support\n",
            "\n",
            "           0       0.47      0.52      0.49        79\n",
            "           1       0.29      0.19      0.23        54\n",
            "           2       0.59      0.65      0.62       103\n",
            "\n",
            "    accuracy                           0.50       236\n",
            "   macro avg       0.45      0.45      0.45       236\n",
            "weighted avg       0.48      0.50      0.49       236\n",
            "\n"
          ]
        }
      ]
    },
    {
      "cell_type": "code",
      "source": [
        "b = pd.DataFrame(y_test_logistic)\n",
        "b.hist()"
      ],
      "metadata": {
        "colab": {
          "base_uri": "https://localhost:8080/",
          "height": 316
        },
        "outputId": "810e7741-106f-4cf5-a804-465b3225acde",
        "id": "TZ9J5ueEL9Fe"
      },
      "execution_count": 63,
      "outputs": [
        {
          "output_type": "execute_result",
          "data": {
            "text/plain": [
              "array([[<matplotlib.axes._subplots.AxesSubplot object at 0x7fa11d0baeb0>]],\n",
              "      dtype=object)"
            ]
          },
          "metadata": {},
          "execution_count": 63
        },
        {
          "output_type": "display_data",
          "data": {
            "text/plain": [
              "<Figure size 432x288 with 1 Axes>"
            ],
            "image/png": "[encoded data removed]"
          },
          "metadata": {
            "needs_background": "light"
          }
        }
      ]
    },
    {
      "cell_type": "code",
      "source": [
        "# a = np.unique(RF_Classifier_result, return_counts=True)\n",
        "a = pd.DataFrame(RF_Classifier_OnlyResults_predictions)\n",
        "a.hist()"
      ],
      "metadata": {
        "colab": {
          "base_uri": "https://localhost:8080/",
          "height": 316
        },
        "outputId": "6915abab-68e2-4d56-efdc-36ad3cc0041f",
        "id": "RZIU7PdML9Fe"
      },
      "execution_count": 64,
      "outputs": [
        {
          "output_type": "execute_result",
          "data": {
            "text/plain": [
              "array([[<matplotlib.axes._subplots.AxesSubplot object at 0x7fa11d043070>]],\n",
              "      dtype=object)"
            ]
          },
          "metadata": {},
          "execution_count": 64
        },
        {
          "output_type": "display_data",
          "data": {
            "text/plain": [
              "<Figure size 432x288 with 1 Axes>"
            ],
            "image/png": "[encoded data removed]"
          },
          "metadata": {
            "needs_background": "light"
          }
        }
      ]
    },
    {
      "cell_type": "code",
      "source": [
        "distribution_home_results = df1['home_result_list']\n",
        "distribution_home_results.hist()"
      ],
      "metadata": {
        "colab": {
          "base_uri": "https://localhost:8080/",
          "height": 282
        },
        "outputId": "a5805a4a-4137-4a73-ae43-79da41b0c218",
        "id": "Bpjj0BTnL9Ff"
      },
      "execution_count": null,
      "outputs": [
        {
          "output_type": "execute_result",
          "data": {
            "text/plain": [
              "<matplotlib.axes._subplots.AxesSubplot at 0x7f15b777aeb0>"
            ]
          },
          "metadata": {},
          "execution_count": 115
        },
        {
          "output_type": "display_data",
          "data": {
            "text/plain": [
              "<Figure size 432x288 with 1 Axes>"
            ],
            "image/png": "[encoded data removed]"
          },
          "metadata": {
            "needs_background": "light"
          }
        }
      ]
    },
    {
      "cell_type": "markdown",
      "source": [
        "# GradientBoostingClassifier"
      ],
      "metadata": {
        "id": "_kLaSSW19Vdo"
      }
    },
    {
      "cell_type": "code",
      "source": [
        "y_home_goals = df1['home goals'].values\n",
        "y_away_goals = df1['away goals'].values\n",
        "x_tree_GB = df1.drop(['home goals', 'away goals', 'home_result_list'], axis=1).values"
      ],
      "metadata": {
        "id": "TgyAzKgw-sUf"
      },
      "execution_count": null,
      "outputs": []
    },
    {
      "cell_type": "code",
      "source": [
        "from sklearn.ensemble import GradientBoostingClassifier\n",
        "\n",
        "home_goals_Classifier = GradientBoostingClassifier(max_depth=None,max_features = None, n_estimators=100)\n",
        "away_goals_Classifier = GradientBoostingClassifier(max_depth=None,max_features = None, n_estimators=100)\n",
        "\n",
        "home_goals_Classifier.fit(x_tree_GB,y_home_goals)\n",
        "away_goals_Classifier.fit(x_tree_GB,y_away_goals)\n",
        "\n",
        "home_goals_prediction_test = home_goals_Classifier.predict(X_test_tree)\n",
        "away_goals_prediction_test = away_goals_Classifier.predict(X_test_tree)\n",
        "\n",
        "\n",
        "\n",
        "\n",
        "RF_Classifier_predictions = np.column_stack((home_goals_prediction_test,away_goals_prediction_test))\n",
        "\n",
        "\n",
        "home_goals_prediction_train = home_goals_Classifier.predict(X_train_tree)\n",
        "away_goals_prediction_train = away_goals_Classifier.predict(X_train_tree)\n",
        "\n",
        "RF_Classifier_training_predictions = np.column_stack((home_goals_prediction_train,away_goals_prediction_train))\n",
        "\n",
        "\n",
        "# RF_Classifier_predictions = RF_Classifier.predict(X_test_tree)\n",
        "# RF_Classifier_predictions\n",
        "\n",
        "# RF_Classifier_training_predictions = RF_Classifier.predict(X_train_tree)"
      ],
      "metadata": {
        "id": "VUqHoYnMz6tS"
      },
      "execution_count": null,
      "outputs": []
    },
    {
      "cell_type": "code",
      "source": [
        "RF_Classifier_predictions"
      ],
      "metadata": {
        "id": "KJ7DMHtIKIP0"
      },
      "execution_count": null,
      "outputs": []
    },
    {
      "cell_type": "code",
      "source": [
        "RF_Classifier_result = []\n",
        "for i in range(len(RF_Classifier_predictions)):\n",
        "  if RF_Classifier_predictions[i][0] - RF_Classifier_predictions[i][1] > 0:\n",
        "    RF_Classifier_result.append(2)\n",
        "\n",
        "  if RF_Classifier_predictions[i][0] - RF_Classifier_predictions[i][1] < 0:\n",
        "    RF_Classifier_result.append(0)\n",
        "    \n",
        "  if RF_Classifier_predictions[i][0] - RF_Classifier_predictions[i][1] == 0:\n",
        "    RF_Classifier_result.append(1)\n",
        "\n",
        "RF_Classifier_result = np.array(RF_Classifier_result)\n",
        "\n",
        "#####################################################################\n",
        "\n",
        "RF_Classifier_train_result = []\n",
        "for i in range(len(RF_Classifier_training_predictions)):\n",
        "  if RF_Classifier_training_predictions[i][0] - RF_Classifier_training_predictions[i][1] > 0:\n",
        "    RF_Classifier_train_result.append(2)\n",
        "\n",
        "  if RF_Classifier_training_predictions[i][0] - RF_Classifier_training_predictions[i][1] < 0:\n",
        "    RF_Classifier_train_result.append(0)\n",
        "    \n",
        "  if RF_Classifier_training_predictions[i][0] - RF_Classifier_training_predictions[i][1] == 0:\n",
        "    RF_Classifier_train_result.append(1)\n",
        "\n",
        "RF_Classifier_train_result = np.array(RF_Classifier_train_result)\n",
        "\n",
        "test_results = []\n",
        "for i in range(len(RF_Classifier_result)):\n",
        "  if y_test_tree[i][0] - y_test_tree[i][1] > 0:\n",
        "    test_results.append(2)\n",
        "  if y_test_tree[i][0] - y_test_tree[i][1] < 0:\n",
        "    test_results.append(0)\n",
        "  if y_test_tree[i][0] - y_test_tree[i][1] == 0:\n",
        "    test_results.append(1)\n",
        "\n",
        "test_results = np.array(test_results)\n",
        "\n",
        "train_results = []\n",
        "for i in range(len(RF_Classifier_training_predictions)):\n",
        "  if y_train_tree[i][0] - y_train_tree[i][1] > 0:\n",
        "    train_results.append(2)\n",
        "  if y_train_tree[i][0] - y_train_tree[i][1] < 0:\n",
        "    train_results.append(0)\n",
        "  if y_train_tree[i][0] - y_train_tree[i][1] == 0:\n",
        "    train_results.append(1)\n",
        "\n",
        "train_results = np.array(train_results)"
      ],
      "metadata": {
        "id": "lWqk9Idt-J29"
      },
      "execution_count": null,
      "outputs": []
    },
    {
      "cell_type": "code",
      "source": [
        "RF_Classifier_result"
      ],
      "metadata": {
        "colab": {
          "base_uri": "https://localhost:8080/"
        },
        "outputId": "676c51f7-bea5-4b74-d9ca-cafb272369e7",
        "id": "I52wyhd4-J2-"
      },
      "execution_count": null,
      "outputs": [
        {
          "output_type": "execute_result",
          "data": {
            "text/plain": [
              "array([2, 2, 1, 2, 1, 0, 0, 2, 2, 0, 0, 0, 0, 2, 1, 2, 1, 2, 2, 2, 1, 0,\n",
              "       0, 1, 0, 2, 1, 0, 2, 0, 2, 0, 0, 0, 2, 2, 2, 2, 0, 0, 2, 0, 2, 1,\n",
              "       2, 2, 0, 0, 0, 2, 0, 0, 2, 2, 0, 0, 2, 2, 1, 1, 0, 2, 0, 2, 2, 2,\n",
              "       2, 2, 2, 1, 1, 1, 2, 2, 2, 2, 0, 2, 0, 2, 2, 2, 1, 0, 2, 2, 0, 2,\n",
              "       2, 0, 2, 2, 2, 0, 0, 0, 1, 0, 0, 0, 0, 0, 0, 1, 0, 2, 1, 2, 2, 0,\n",
              "       2, 2, 2, 1, 1, 0, 2, 0, 2, 1, 0, 0, 1, 1, 2, 0, 2, 2, 0, 0, 0, 2,\n",
              "       2, 1, 2, 2, 0, 2, 1, 1, 2, 0, 2, 0, 2, 0, 2, 1, 0, 2, 1, 0, 1, 0,\n",
              "       1, 0, 1, 2, 0, 0, 2, 2, 1, 0, 1, 1, 2, 0, 0, 2, 2, 0, 2, 2, 2, 0,\n",
              "       1, 1, 0, 2, 2, 2, 0, 2, 1, 2, 2, 2, 2, 2, 0, 1, 2, 0, 1, 2, 2, 1,\n",
              "       1, 2, 0, 1, 2, 1, 0, 1, 2, 0, 2, 0, 2, 0, 1, 1, 0, 1, 0, 2, 0, 2,\n",
              "       2, 0, 1, 2, 2, 0, 1, 2, 0, 2, 1, 2, 1, 2, 2, 2])"
            ]
          },
          "metadata": {},
          "execution_count": 58
        }
      ]
    },
    {
      "cell_type": "code",
      "source": [
        "from sklearn.metrics import accuracy_score\n",
        "print(accuracy_score(test_results, RF_Classifier_result), accuracy_score(train_results, RF_Classifier_train_result))"
      ],
      "metadata": {
        "colab": {
          "base_uri": "https://localhost:8080/"
        },
        "outputId": "5c364c6f-2a62-4e87-b6f7-255a093ed821",
        "id": "nVEjExSN-J2-"
      },
      "execution_count": null,
      "outputs": [
        {
          "output_type": "stream",
          "name": "stdout",
          "text": [
            "0.3898305084745763 0.4202247191011236\n"
          ]
        }
      ]
    },
    {
      "cell_type": "code",
      "source": [
        "print(classification_report(test_results, RF_Classifier_result))"
      ],
      "metadata": {
        "colab": {
          "base_uri": "https://localhost:8080/"
        },
        "outputId": "abc40987-82ca-401d-da21-8f71a95ee978",
        "id": "EHiRMuHd-J2-"
      },
      "execution_count": null,
      "outputs": [
        {
          "output_type": "stream",
          "name": "stdout",
          "text": [
            "              precision    recall  f1-score   support\n",
            "\n",
            "           0       0.39      0.35      0.37        80\n",
            "           1       0.17      0.20      0.18        51\n",
            "           2       0.49      0.50      0.49       105\n",
            "\n",
            "    accuracy                           0.38       236\n",
            "   macro avg       0.35      0.35      0.35       236\n",
            "weighted avg       0.39      0.38      0.38       236\n",
            "\n"
          ]
        }
      ]
    },
    {
      "cell_type": "code",
      "source": [
        "len(train_results)"
      ],
      "metadata": {
        "colab": {
          "base_uri": "https://localhost:8080/"
        },
        "outputId": "74ec51d1-90f1-4862-e1a8-e3f8e2ad1191",
        "id": "_P8EYVN5-J2-"
      },
      "execution_count": null,
      "outputs": [
        {
          "output_type": "execute_result",
          "data": {
            "text/plain": [
              "1335"
            ]
          },
          "metadata": {},
          "execution_count": 49
        }
      ]
    },
    {
      "cell_type": "code",
      "source": [
        "b = pd.DataFrame(train_results)\n",
        "b.hist()"
      ],
      "metadata": {
        "colab": {
          "base_uri": "https://localhost:8080/",
          "height": 316
        },
        "outputId": "3c7e4530-a889-4918-cde6-2b87ba52cb27",
        "id": "DWW7z0Xh-J2-"
      },
      "execution_count": null,
      "outputs": [
        {
          "output_type": "execute_result",
          "data": {
            "text/plain": [
              "array([[<matplotlib.axes._subplots.AxesSubplot object at 0x7f15b85b2220>]],\n",
              "      dtype=object)"
            ]
          },
          "metadata": {},
          "execution_count": 50
        },
        {
          "output_type": "display_data",
          "data": {
            "text/plain": [
              "<Figure size 432x288 with 1 Axes>"
            ],
            "image/png": "[encoded data removed]"
          },
          "metadata": {
            "needs_background": "light"
          }
        }
      ]
    },
    {
      "cell_type": "code",
      "source": [
        "# a = np.unique(RF_Classifier_result, return_counts=True)\n",
        "a = pd.DataFrame(RF_Classifier_train_result)\n",
        "a.hist()"
      ],
      "metadata": {
        "colab": {
          "base_uri": "https://localhost:8080/",
          "height": 316
        },
        "outputId": "d940d0b6-1252-4f1f-9d12-e5298782bc04",
        "id": "wpqdfeaR-J2-"
      },
      "execution_count": null,
      "outputs": [
        {
          "output_type": "execute_result",
          "data": {
            "text/plain": [
              "array([[<matplotlib.axes._subplots.AxesSubplot object at 0x7f15b852a880>]],\n",
              "      dtype=object)"
            ]
          },
          "metadata": {},
          "execution_count": 51
        },
        {
          "output_type": "display_data",
          "data": {
            "text/plain": [
              "<Figure size 432x288 with 1 Axes>"
            ],
            "image/png": "[encoded data removed]"
          },
          "metadata": {
            "needs_background": "light"
          }
        }
      ]
    },
    {
      "cell_type": "code",
      "source": [
        "distribution_home_results = df1['home_result_list']\n",
        "distribution_home_results.hist()"
      ],
      "metadata": {
        "colab": {
          "base_uri": "https://localhost:8080/",
          "height": 282
        },
        "outputId": "fecf96b7-302d-4e58-c11c-d50c154fa3fe",
        "id": "KI6az9Os-J2_"
      },
      "execution_count": null,
      "outputs": [
        {
          "output_type": "execute_result",
          "data": {
            "text/plain": [
              "<matplotlib.axes._subplots.AxesSubplot at 0x7f15b8d1bdf0>"
            ]
          },
          "metadata": {},
          "execution_count": 52
        },
        {
          "output_type": "display_data",
          "data": {
            "text/plain": [
              "<Figure size 432x288 with 1 Axes>"
            ],
            "image/png": "[encoded data removed]"
          },
          "metadata": {
            "needs_background": "light"
          }
        }
      ]
    },
    {
      "cell_type": "markdown",
      "source": [
        "# NEURAL NETWORK"
      ],
      "metadata": {
        "id": "3R2gibUMOclV"
      }
    },
    {
      "cell_type": "markdown",
      "source": [
        "## preproscessing"
      ],
      "metadata": {
        "id": "hGp0fkCgT1jq"
      }
    },
    {
      "cell_type": "code",
      "source": [
        "y_tree_based = df1['home goals'].values\n",
        "\n",
        "x_tree_based = df1.drop(['home goals', 'away goals', 'home_result_list'], axis=1).values"
      ],
      "metadata": {
        "id": "lZxC4DVWSp2_"
      },
      "execution_count": 102,
      "outputs": []
    },
    {
      "cell_type": "code",
      "source": [
        "from sklearn.preprocessing import StandardScaler\n",
        "scaler = StandardScaler()\n",
        "\n",
        "x_tree_based = scaler.fit_transform(x_tree_based)"
      ],
      "metadata": {
        "id": "XyA-OwwqSb3I"
      },
      "execution_count": 103,
      "outputs": []
    },
    {
      "cell_type": "code",
      "source": [
        "from sklearn.model_selection import train_test_split\n",
        "\n",
        "x_train_tree, x_test_tree, y_train_tree, y_test_tree = train_test_split(x_tree_based, y_tree_based, test_size=0.15, random_state= 42)"
      ],
      "metadata": {
        "id": "f0xqeHoNSp2_"
      },
      "execution_count": 191,
      "outputs": []
    },
    {
      "cell_type": "markdown",
      "source": [
        "## model"
      ],
      "metadata": {
        "id": "uIzBhXFATzjD"
      }
    },
    {
      "cell_type": "code",
      "source": [
        "from sklearn.neural_network import MLPClassifier\n",
        "clf = MLPClassifier(solver='lbfgs', alpha=1e-5,\n",
        "                   hidden_layer_sizes=(300, 12),  activation='relu', learning_rate='constant', \n",
        "                    learning_rate_init=0.0001, power_t=0.5, max_iter=700)\n",
        "\n",
        "clf.fit(x_train_tree,y_train_tree)\n",
        "\n",
        "RF_Classifier_predictions = clf.predict(x_test_tree)\n",
        "\n",
        "RF_Classifier_training_predictions = RF_Classifier.predict(x_train_tree)"
      ],
      "metadata": {
        "id": "JpPC6O0bOjPl"
      },
      "execution_count": 204,
      "outputs": []
    },
    {
      "cell_type": "code",
      "source": [
        "from sklearn.metrics import accuracy_score\n",
        "print(accuracy_score(y_test_tree, RF_Classifier_predictions), accuracy_score(y_train_tree, RF_Classifier_training_predictions))"
      ],
      "metadata": {
        "colab": {
          "base_uri": "https://localhost:8080/"
        },
        "outputId": "def3aad2-09f1-4397-a711-71f794393bdf",
        "id": "L53U4pjMQHRn"
      },
      "execution_count": 205,
      "outputs": [
        {
          "output_type": "stream",
          "name": "stdout",
          "text": [
            "0.2457627118644068 0.3161048689138577\n"
          ]
        }
      ]
    },
    {
      "cell_type": "code",
      "source": [
        "from sklearn.metrics import classification_report\n",
        "\n",
        "print(classification_report(y_test_tree, RF_Classifier_predictions))"
      ],
      "metadata": {
        "colab": {
          "base_uri": "https://localhost:8080/"
        },
        "outputId": "ad2cc18e-4a54-480d-ad4d-5b66019018f0",
        "id": "9AhIxXFnQHRo"
      },
      "execution_count": 206,
      "outputs": [
        {
          "output_type": "stream",
          "name": "stdout",
          "text": [
            "              precision    recall  f1-score   support\n",
            "\n",
            "           0       0.20      0.24      0.22        54\n",
            "           1       0.30      0.25      0.27        80\n",
            "           2       0.31      0.34      0.32        56\n",
            "           3       0.20      0.14      0.17        28\n",
            "           4       0.10      0.08      0.09        12\n",
            "           5       0.11      0.20      0.14         5\n",
            "           6       0.00      0.00      0.00         0\n",
            "           7       0.00      0.00      0.00         1\n",
            "\n",
            "    accuracy                           0.25       236\n",
            "   macro avg       0.15      0.16      0.15       236\n",
            "weighted avg       0.25      0.25      0.25       236\n",
            "\n"
          ]
        },
        {
          "output_type": "stream",
          "name": "stderr",
          "text": [
            "/usr/local/lib/python3.8/dist-packages/sklearn/metrics/_classification.py:1318: UndefinedMetricWarning: Recall and F-score are ill-defined and being set to 0.0 in labels with no true samples. Use `zero_division` parameter to control this behavior.\n",
            "  _warn_prf(average, modifier, msg_start, len(result))\n",
            "/usr/local/lib/python3.8/dist-packages/sklearn/metrics/_classification.py:1318: UndefinedMetricWarning: Recall and F-score are ill-defined and being set to 0.0 in labels with no true samples. Use `zero_division` parameter to control this behavior.\n",
            "  _warn_prf(average, modifier, msg_start, len(result))\n",
            "/usr/local/lib/python3.8/dist-packages/sklearn/metrics/_classification.py:1318: UndefinedMetricWarning: Recall and F-score are ill-defined and being set to 0.0 in labels with no true samples. Use `zero_division` parameter to control this behavior.\n",
            "  _warn_prf(average, modifier, msg_start, len(result))\n"
          ]
        }
      ]
    },
    {
      "cell_type": "code",
      "source": [
        "b = pd.DataFrame(y_test_tree)\n",
        "b.hist()"
      ],
      "metadata": {
        "colab": {
          "base_uri": "https://localhost:8080/",
          "height": 316
        },
        "outputId": "aec439f3-5f97-48e0-c276-f4c14a6b5cf6",
        "id": "H43ef4prQHRo"
      },
      "execution_count": 207,
      "outputs": [
        {
          "output_type": "execute_result",
          "data": {
            "text/plain": [
              "array([[<matplotlib.axes._subplots.AxesSubplot object at 0x7fa118c2a9a0>]],\n",
              "      dtype=object)"
            ]
          },
          "metadata": {},
          "execution_count": 207
        },
        {
          "output_type": "display_data",
          "data": {
            "text/plain": [
              "<Figure size 432x288 with 1 Axes>"
            ],
            "image/png": "[encoded data removed]"
          },
          "metadata": {
            "needs_background": "light"
          }
        }
      ]
    },
    {
      "cell_type": "code",
      "source": [
        "# a = np.unique(RF_Classifier_result, return_counts=True)\n",
        "a = pd.DataFrame(RF_Classifier_predictions)\n",
        "a.hist()"
      ],
      "metadata": {
        "colab": {
          "base_uri": "https://localhost:8080/",
          "height": 316
        },
        "outputId": "c62ed81c-73d2-438e-dbf5-3c865922307a",
        "id": "HviVvnRFQHRo"
      },
      "execution_count": 208,
      "outputs": [
        {
          "output_type": "execute_result",
          "data": {
            "text/plain": [
              "array([[<matplotlib.axes._subplots.AxesSubplot object at 0x7fa118a8b100>]],\n",
              "      dtype=object)"
            ]
          },
          "metadata": {},
          "execution_count": 208
        },
        {
          "output_type": "display_data",
          "data": {
            "text/plain": [
              "<Figure size 432x288 with 1 Axes>"
            ],
            "image/png": "[encoded data removed]"
          },
          "metadata": {
            "needs_background": "light"
          }
        }
      ]
    },
    {
      "cell_type": "code",
      "source": [
        "a = pd.DataFrame(RF_Classifier_training_predictions)\n",
        "a.hist()\n"
      ],
      "metadata": {
        "colab": {
          "base_uri": "https://localhost:8080/",
          "height": 316
        },
        "id": "SnfcMle1QnSq",
        "outputId": "2504d3b3-34b6-4c3f-8b27-4916f7d27cee"
      },
      "execution_count": 209,
      "outputs": [
        {
          "output_type": "execute_result",
          "data": {
            "text/plain": [
              "array([[<matplotlib.axes._subplots.AxesSubplot object at 0x7fa118a34910>]],\n",
              "      dtype=object)"
            ]
          },
          "metadata": {},
          "execution_count": 209
        },
        {
          "output_type": "display_data",
          "data": {
            "text/plain": [
              "<Figure size 432x288 with 1 Axes>"
            ],
            "image/png": "[encoded data removed]"
          },
          "metadata": {
            "needs_background": "light"
          }
        }
      ]
    },
    {
      "cell_type": "code",
      "source": [
        "actualResults_vs_PredictedResults = np.column_stack((y_test_tree,RF_Classifier_predictions))\n",
        "actualResults_vs_PredictedResults"
      ],
      "metadata": {
        "colab": {
          "base_uri": "https://localhost:8080/"
        },
        "id": "4-TTOfL4Ttpx",
        "outputId": "efed072e-e4d2-44b8-fb35-6bdff37006ae"
      },
      "execution_count": 210,
      "outputs": [
        {
          "output_type": "execute_result",
          "data": {
            "text/plain": [
              "array([[2, 1],\n",
              "       [1, 2],\n",
              "       [0, 0],\n",
              "       [5, 2],\n",
              "       [4, 1],\n",
              "       [0, 4],\n",
              "       [0, 1],\n",
              "       [1, 1],\n",
              "       [0, 5],\n",
              "       [0, 2],\n",
              "       [2, 0],\n",
              "       [1, 5],\n",
              "       [2, 1],\n",
              "       [1, 2],\n",
              "       [1, 2],\n",
              "       [0, 2],\n",
              "       [1, 0],\n",
              "       [1, 2],\n",
              "       [0, 1],\n",
              "       [1, 0],\n",
              "       [3, 3],\n",
              "       [4, 1],\n",
              "       [1, 1],\n",
              "       [1, 1],\n",
              "       [1, 2],\n",
              "       [1, 0],\n",
              "       [0, 1],\n",
              "       [0, 0],\n",
              "       [0, 1],\n",
              "       [1, 3],\n",
              "       [0, 0],\n",
              "       [1, 2],\n",
              "       [2, 0],\n",
              "       [2, 2],\n",
              "       [4, 1],\n",
              "       [2, 1],\n",
              "       [4, 0],\n",
              "       [0, 2],\n",
              "       [1, 6],\n",
              "       [2, 1],\n",
              "       [1, 1],\n",
              "       [4, 0],\n",
              "       [0, 0],\n",
              "       [0, 3],\n",
              "       [1, 0],\n",
              "       [4, 2],\n",
              "       [0, 2],\n",
              "       [0, 2],\n",
              "       [3, 1],\n",
              "       [3, 1],\n",
              "       [2, 2],\n",
              "       [1, 1],\n",
              "       [2, 0],\n",
              "       [2, 1],\n",
              "       [0, 3],\n",
              "       [0, 0],\n",
              "       [2, 2],\n",
              "       [0, 3],\n",
              "       [2, 0],\n",
              "       [1, 2],\n",
              "       [0, 2],\n",
              "       [2, 0],\n",
              "       [0, 1],\n",
              "       [2, 4],\n",
              "       [1, 3],\n",
              "       [0, 0],\n",
              "       [0, 1],\n",
              "       [1, 1],\n",
              "       [0, 2],\n",
              "       [1, 1],\n",
              "       [1, 1],\n",
              "       [2, 0],\n",
              "       [2, 1],\n",
              "       [3, 0],\n",
              "       [4, 2],\n",
              "       [3, 0],\n",
              "       [2, 2],\n",
              "       [0, 2],\n",
              "       [0, 2],\n",
              "       [4, 4],\n",
              "       [1, 0],\n",
              "       [1, 1],\n",
              "       [1, 0],\n",
              "       [1, 0],\n",
              "       [1, 2],\n",
              "       [0, 0],\n",
              "       [3, 2],\n",
              "       [4, 3],\n",
              "       [1, 1],\n",
              "       [3, 1],\n",
              "       [1, 1],\n",
              "       [2, 1],\n",
              "       [0, 0],\n",
              "       [2, 2],\n",
              "       [2, 5],\n",
              "       [2, 2],\n",
              "       [1, 2],\n",
              "       [0, 1],\n",
              "       [1, 0],\n",
              "       [2, 2],\n",
              "       [2, 2],\n",
              "       [2, 2],\n",
              "       [1, 5],\n",
              "       [2, 1],\n",
              "       [1, 2],\n",
              "       [1, 3],\n",
              "       [1, 2],\n",
              "       [0, 2],\n",
              "       [2, 1],\n",
              "       [3, 2],\n",
              "       [2, 1],\n",
              "       [2, 4],\n",
              "       [1, 2],\n",
              "       [5, 0],\n",
              "       [1, 3],\n",
              "       [3, 2],\n",
              "       [1, 1],\n",
              "       [3, 2],\n",
              "       [0, 2],\n",
              "       [3, 1],\n",
              "       [2, 2],\n",
              "       [2, 0],\n",
              "       [1, 3],\n",
              "       [2, 2],\n",
              "       [1, 0],\n",
              "       [1, 1],\n",
              "       [1, 0],\n",
              "       [0, 0],\n",
              "       [2, 3],\n",
              "       [0, 1],\n",
              "       [3, 1],\n",
              "       [2, 1],\n",
              "       [3, 5],\n",
              "       [3, 0],\n",
              "       [1, 2],\n",
              "       [2, 0],\n",
              "       [1, 0],\n",
              "       [1, 3],\n",
              "       [1, 1],\n",
              "       [0, 2],\n",
              "       [1, 1],\n",
              "       [2, 2],\n",
              "       [0, 1],\n",
              "       [0, 2],\n",
              "       [0, 4],\n",
              "       [3, 1],\n",
              "       [3, 0],\n",
              "       [0, 0],\n",
              "       [3, 0],\n",
              "       [4, 2],\n",
              "       [2, 1],\n",
              "       [1, 0],\n",
              "       [1, 1],\n",
              "       [1, 4],\n",
              "       [0, 1],\n",
              "       [3, 1],\n",
              "       [2, 2],\n",
              "       [2, 0],\n",
              "       [4, 0],\n",
              "       [1, 0],\n",
              "       [1, 0],\n",
              "       [3, 2],\n",
              "       [1, 1],\n",
              "       [2, 2],\n",
              "       [2, 0],\n",
              "       [5, 1],\n",
              "       [3, 3],\n",
              "       [1, 1],\n",
              "       [1, 2],\n",
              "       [1, 0],\n",
              "       [0, 0],\n",
              "       [0, 1],\n",
              "       [3, 0],\n",
              "       [0, 1],\n",
              "       [0, 0],\n",
              "       [1, 0],\n",
              "       [0, 3],\n",
              "       [2, 0],\n",
              "       [0, 2],\n",
              "       [2, 0],\n",
              "       [3, 2],\n",
              "       [2, 1],\n",
              "       [3, 3],\n",
              "       [1, 0],\n",
              "       [3, 3],\n",
              "       [1, 1],\n",
              "       [2, 2],\n",
              "       [1, 3],\n",
              "       [1, 3],\n",
              "       [3, 0],\n",
              "       [0, 1],\n",
              "       [1, 0],\n",
              "       [1, 3],\n",
              "       [1, 4],\n",
              "       [2, 5],\n",
              "       [2, 1],\n",
              "       [2, 2],\n",
              "       [2, 3],\n",
              "       [4, 1],\n",
              "       [1, 0],\n",
              "       [2, 2],\n",
              "       [2, 2],\n",
              "       [0, 1],\n",
              "       [1, 1],\n",
              "       [1, 7],\n",
              "       [0, 1],\n",
              "       [1, 0],\n",
              "       [2, 1],\n",
              "       [1, 0],\n",
              "       [5, 5],\n",
              "       [2, 0],\n",
              "       [3, 6],\n",
              "       [1, 0],\n",
              "       [7, 0],\n",
              "       [1, 0],\n",
              "       [1, 4],\n",
              "       [1, 4],\n",
              "       [2, 5],\n",
              "       [1, 5],\n",
              "       [1, 0],\n",
              "       [2, 0],\n",
              "       [0, 1],\n",
              "       [0, 0],\n",
              "       [0, 2],\n",
              "       [2, 1],\n",
              "       [1, 0],\n",
              "       [2, 2],\n",
              "       [3, 2],\n",
              "       [0, 1],\n",
              "       [1, 0],\n",
              "       [0, 1],\n",
              "       [3, 2],\n",
              "       [0, 2],\n",
              "       [1, 0],\n",
              "       [5, 1],\n",
              "       [1, 4]])"
            ]
          },
          "metadata": {},
          "execution_count": 210
        }
      ]
    },
    {
      "cell_type": "code",
      "source": [],
      "metadata": {
        "id": "weWaxTfpX-3Y"
      },
      "execution_count": null,
      "outputs": []
    }
  ]
}